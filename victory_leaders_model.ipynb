{
 "cells": [
  {
   "cell_type": "code",
   "execution_count": 1,
   "metadata": {},
   "outputs": [],
   "source": [
    "import cv2\n",
    "import os\n",
    "\n",
    "faces_list = ['budanov', 'chmut', 'kim', 'marchenko', 'prytula', 'reznikov', 'zaluzhny', 'zelensky']\n",
    "raw_images_path = os.path.join(os.getcwd(), 'data_set', 'raw_images')\n",
    "cropped_images_path = os.path.join(os.getcwd(), 'data_set', 'cropped_images')\n",
    "\n",
    "face_cascade = cv2.CascadeClassifier(cv2.data.haarcascades + 'haarcascade_frontalface_default.xml')\n",
    "\n",
    "for name in faces_list:\n",
    "    raw_images_list = os.listdir(os.path.join(raw_images_path, name))\n",
    "    counter = 1\n",
    "    for raw in raw_images_list:\n",
    "        img = cv2.imread(os.path.join(raw_images_path, name, raw))\n",
    "        gray = cv2.cvtColor(img, cv2.COLOR_BGR2GRAY)\n",
    "        faces = face_cascade.detectMultiScale(gray, 1.3, 5)\n",
    "        for (x,y,w,h) in faces:\n",
    "            new_img = img[y:y+h, x:x+w]\n",
    "            cv2.imwrite(os.path.join(cropped_images_path, name, f'{counter}.png'), new_img)\n",
    "            counter += 1\n",
    "        \n"
   ]
  },
  {
   "cell_type": "code",
   "execution_count": 2,
   "metadata": {},
   "outputs": [
    {
     "name": "stderr",
     "output_type": "stream",
     "text": [
      "c:\\Users\\Aleksandr\\AppData\\Local\\Programs\\Python\\Python310\\lib\\site-packages\\scipy\\__init__.py:146: UserWarning: A NumPy version >=1.16.5 and <1.23.0 is required for this version of SciPy (detected version 1.23.3\n",
      "  warnings.warn(f\"A NumPy version >={np_minversion} and <{np_maxversion}\"\n"
     ]
    },
    {
     "name": "stdout",
     "output_type": "stream",
     "text": [
      "Model: \"sequential\"\n",
      "_________________________________________________________________\n",
      " Layer (type)                Output Shape              Param #   \n",
      "=================================================================\n",
      " conv2d (Conv2D)             (None, 30, 30, 32)        896       \n",
      "                                                                 \n",
      " activation (Activation)     (None, 30, 30, 32)        0         \n",
      "                                                                 \n",
      " max_pooling2d (MaxPooling2D  (None, 15, 15, 32)       0         \n",
      " )                                                               \n",
      "                                                                 \n",
      " conv2d_1 (Conv2D)           (None, 13, 13, 32)        9248      \n",
      "                                                                 \n",
      " activation_1 (Activation)   (None, 13, 13, 32)        0         \n",
      "                                                                 \n",
      " max_pooling2d_1 (MaxPooling  (None, 7, 7, 32)         0         \n",
      " 2D)                                                             \n",
      "                                                                 \n",
      " conv2d_2 (Conv2D)           (None, 5, 5, 64)          18496     \n",
      "                                                                 \n",
      " activation_2 (Activation)   (None, 5, 5, 64)          0         \n",
      "                                                                 \n",
      " max_pooling2d_2 (MaxPooling  (None, 3, 3, 64)         0         \n",
      " 2D)                                                             \n",
      "                                                                 \n",
      " flatten (Flatten)           (None, 576)               0         \n",
      "                                                                 \n",
      " dense (Dense)               (None, 64)                36928     \n",
      "                                                                 \n",
      " dropout (Dropout)           (None, 64)                0         \n",
      "                                                                 \n",
      " dense_1 (Dense)             (None, 8)                 520       \n",
      "                                                                 \n",
      " activation_3 (Activation)   (None, 8)                 0         \n",
      "                                                                 \n",
      "=================================================================\n",
      "Total params: 66,088\n",
      "Trainable params: 66,088\n",
      "Non-trainable params: 0\n",
      "_________________________________________________________________\n"
     ]
    }
   ],
   "source": [
    "import tensorflow as tf\n",
    "from tensorflow.keras import Sequential\n",
    "from tensorflow.keras.layers import Conv2D, Dropout, Activation, Flatten, Dropout, MaxPooling2D, Dense\n",
    "\n",
    "import os\n",
    "import cv2\n",
    "import numpy as np\n",
    "\n",
    "faces_list = ['budanov', 'chmut', 'kim', 'marchenko', 'prytula', 'reznikov', 'zaluzhny', 'zelensky']\n",
    "cropped_images_path = os.path.join(os.getcwd(), 'data_set', 'cropped_images')\n",
    "\n",
    "X = []\n",
    "Y = []\n",
    "\n",
    "for name in faces_list:\n",
    "    path_to_name = os.path.join(cropped_images_path, name)\n",
    "    lstdir = os.listdir(path_to_name)\n",
    "    faces_prob = [0 if faces_list[i] != name else 1 for i in range(len(faces_list))]\n",
    "    for pic in lstdir:\n",
    "        path_to_pic = os.path.join(path_to_name, pic)\n",
    "        img = cv2.imread(path_to_pic)\n",
    "        img = cv2.resize(img, (32, 32))\n",
    "        X.append(img)\n",
    "        Y.append(faces_prob)\n",
    "\n",
    "X = np.asarray(X, dtype='float32')\n",
    "Y = np.asarray(Y, dtype='float32')\n",
    "\n",
    "model = Sequential()\n",
    "model.add(Conv2D(32, (3, 3), input_shape=X[0].shape))\n",
    "model.add(Activation('relu'))\n",
    "model.add(MaxPooling2D((2, 2), padding='same'))\n",
    "\n",
    "model.add(Conv2D(32, (3, 3), input_shape=X[0].shape))\n",
    "model.add(Activation('relu'))\n",
    "model.add(MaxPooling2D((2, 2), padding='same'))\n",
    "\n",
    "model.add(Conv2D(64, (3, 3), input_shape=X[0].shape))\n",
    "model.add(Activation('relu'))\n",
    "model.add(MaxPooling2D((2, 2), padding='same'))\n",
    "\n",
    "model.add(Flatten())\n",
    "model.add(Dense(64))\n",
    "model.add(Dropout(0.5))\n",
    "model.add(Dense(len(faces_list), kernel_regularizer='l2'))\n",
    "model.add(Activation('sigmoid'))\n",
    "\n",
    "model.compile(loss='categorical_crossentropy',\n",
    "              optimizer='rmsprop',\n",
    "              metrics=['accuracy'])\n",
    "\n",
    "model.summary()"
   ]
  },
  {
   "cell_type": "code",
   "execution_count": 47,
   "metadata": {},
   "outputs": [
    {
     "name": "stdout",
     "output_type": "stream",
     "text": [
      "Epoch 1/32\n",
      "13/13 [==============================] - 1s 15ms/step - loss: 26.3703 - accuracy: 0.1593\n",
      "Epoch 2/32\n",
      "13/13 [==============================] - 0s 12ms/step - loss: 4.5839 - accuracy: 0.1397\n",
      "Epoch 3/32\n",
      "13/13 [==============================] - 0s 4ms/step - loss: 2.8981 - accuracy: 0.1912\n",
      "Epoch 4/32\n",
      "13/13 [==============================] - 0s 4ms/step - loss: 2.2622 - accuracy: 0.2108\n",
      "Epoch 5/32\n",
      "13/13 [==============================] - 0s 4ms/step - loss: 2.3250 - accuracy: 0.2304\n",
      "Epoch 6/32\n",
      "13/13 [==============================] - 0s 4ms/step - loss: 2.5721 - accuracy: 0.1569\n",
      "Epoch 7/32\n",
      "13/13 [==============================] - 0s 4ms/step - loss: 2.2553 - accuracy: 0.1814\n",
      "Epoch 8/32\n",
      "13/13 [==============================] - 0s 4ms/step - loss: 2.2852 - accuracy: 0.2377\n",
      "Epoch 9/32\n",
      "13/13 [==============================] - 0s 5ms/step - loss: 2.1532 - accuracy: 0.2255\n",
      "Epoch 10/32\n",
      "13/13 [==============================] - 0s 4ms/step - loss: 2.2305 - accuracy: 0.2402\n",
      "Epoch 11/32\n",
      "13/13 [==============================] - 0s 4ms/step - loss: 2.1619 - accuracy: 0.2696\n",
      "Epoch 12/32\n",
      "13/13 [==============================] - 0s 4ms/step - loss: 2.0961 - accuracy: 0.2549\n",
      "Epoch 13/32\n",
      "13/13 [==============================] - 0s 5ms/step - loss: 2.2650 - accuracy: 0.3162\n",
      "Epoch 14/32\n",
      "13/13 [==============================] - 0s 4ms/step - loss: 2.0442 - accuracy: 0.3529\n",
      "Epoch 15/32\n",
      "13/13 [==============================] - 0s 5ms/step - loss: 1.7778 - accuracy: 0.3922\n",
      "Epoch 16/32\n",
      "13/13 [==============================] - 0s 5ms/step - loss: 1.7095 - accuracy: 0.4608\n",
      "Epoch 17/32\n",
      "13/13 [==============================] - 0s 5ms/step - loss: 1.5128 - accuracy: 0.5172\n",
      "Epoch 18/32\n",
      "13/13 [==============================] - 0s 4ms/step - loss: 1.4481 - accuracy: 0.5417\n",
      "Epoch 19/32\n",
      "13/13 [==============================] - 0s 4ms/step - loss: 1.3228 - accuracy: 0.6005\n",
      "Epoch 20/32\n",
      "13/13 [==============================] - 0s 4ms/step - loss: 1.3489 - accuracy: 0.5882\n",
      "Epoch 21/32\n",
      "13/13 [==============================] - 0s 4ms/step - loss: 1.1692 - accuracy: 0.6127\n",
      "Epoch 22/32\n",
      "13/13 [==============================] - 0s 4ms/step - loss: 1.0447 - accuracy: 0.6765\n",
      "Epoch 23/32\n",
      "13/13 [==============================] - 0s 4ms/step - loss: 0.9791 - accuracy: 0.7132\n",
      "Epoch 24/32\n",
      "13/13 [==============================] - 0s 4ms/step - loss: 0.9113 - accuracy: 0.7279\n",
      "Epoch 25/32\n",
      "13/13 [==============================] - 0s 4ms/step - loss: 0.8482 - accuracy: 0.7279\n",
      "Epoch 26/32\n",
      "13/13 [==============================] - 0s 4ms/step - loss: 0.6965 - accuracy: 0.8039\n",
      "Epoch 27/32\n",
      "13/13 [==============================] - 0s 4ms/step - loss: 0.6477 - accuracy: 0.8284\n",
      "Epoch 28/32\n",
      "13/13 [==============================] - 0s 4ms/step - loss: 0.6491 - accuracy: 0.8162\n",
      "Epoch 29/32\n",
      "13/13 [==============================] - 0s 4ms/step - loss: 0.7395 - accuracy: 0.8113\n",
      "Epoch 30/32\n",
      "13/13 [==============================] - 0s 4ms/step - loss: 0.5899 - accuracy: 0.8407\n",
      "Epoch 31/32\n",
      "13/13 [==============================] - 0s 4ms/step - loss: 0.5092 - accuracy: 0.8578\n",
      "Epoch 32/32\n",
      "13/13 [==============================] - 0s 4ms/step - loss: 0.4727 - accuracy: 0.8652\n"
     ]
    }
   ],
   "source": [
    "hist = model.fit(X, Y, epochs=32)"
   ]
  },
  {
   "cell_type": "code",
   "execution_count": 4,
   "metadata": {},
   "outputs": [
    {
     "name": "stdout",
     "output_type": "stream",
     "text": [
      "[[[147. 188. 211.]\n",
      "  [164. 205. 228.]\n",
      "  [165. 203. 228.]\n",
      "  ...\n",
      "  [145. 181. 211.]\n",
      "  [118. 158. 187.]\n",
      "  [146. 186. 212.]]\n",
      "\n",
      " [[154. 194. 221.]\n",
      "  [170. 206. 230.]\n",
      "  [180. 217. 242.]\n",
      "  ...\n",
      "  [126. 162. 192.]\n",
      "  [118. 157. 186.]\n",
      "  [141. 180. 207.]]\n",
      "\n",
      " [[138. 179. 207.]\n",
      "  [145. 180. 206.]\n",
      "  [167. 204. 230.]\n",
      "  ...\n",
      "  [110. 144. 174.]\n",
      "  [126. 164. 192.]\n",
      "  [118. 156. 182.]]\n",
      "\n",
      " ...\n",
      "\n",
      " [[ 27.  24.  26.]\n",
      "  [ 23.  20.  22.]\n",
      "  [ 18.  20.  19.]\n",
      "  ...\n",
      "  [ 16.  12.  13.]\n",
      "  [ 24.  21.  22.]\n",
      "  [ 38.  35.  37.]]\n",
      "\n",
      " [[ 30.  27.  29.]\n",
      "  [ 26.  23.  25.]\n",
      "  [ 24.  25.  26.]\n",
      "  ...\n",
      "  [ 30.  25.  26.]\n",
      "  [ 33.  31.  31.]\n",
      "  [ 37.  34.  35.]]\n",
      "\n",
      " [[ 31.  28.  30.]\n",
      "  [ 26.  23.  25.]\n",
      "  [ 24.  25.  26.]\n",
      "  ...\n",
      "  [ 13.  11.  11.]\n",
      "  [ 36.  34.  34.]\n",
      "  [ 38.  36.  37.]]]\n"
     ]
    }
   ],
   "source": [
    "print(X[0])"
   ]
  },
  {
   "cell_type": "code",
   "execution_count": 48,
   "metadata": {},
   "outputs": [
    {
     "data": {
      "image/png": "[encoded data removed]",
      "text/plain": [
       "<Figure size 432x288 with 1 Axes>"
      ]
     },
     "metadata": {
      "needs_background": "light"
     },
     "output_type": "display_data"
    }
   ],
   "source": [
    "import matplotlib.pyplot as plt\n",
    "plt.plot(hist.history['accuracy'])\n",
    "plt.title('model accuracy')\n",
    "plt.ylabel('accuracy')\n",
    "plt.xlabel('epoch')\n",
    "plt.show()"
   ]
  },
  {
   "cell_type": "code",
   "execution_count": 117,
   "metadata": {},
   "outputs": [
    {
     "ename": "FileExistsError",
     "evalue": "[WinError 183] Невозможно создать файл, так как он уже существует: './/model'",
     "output_type": "error",
     "traceback": [
      "\u001b[1;31m---------------------------------------------------------------------------\u001b[0m",
      "\u001b[1;31mFileExistsError\u001b[0m                           Traceback (most recent call last)",
      "\u001b[1;32mc:\\Users\\Aleksandr\\Desktop\\victory_faces_ai_model\\victory_leaders_model.ipynb Ячейка 6\u001b[0m in \u001b[0;36m<module>\u001b[1;34m\u001b[0m\n\u001b[1;32m----> <a href='vscode-notebook-cell:/c%3A/Users/Aleksandr/Desktop/victory_faces_ai_model/victory_leaders_model.ipynb#W5sZmlsZQ%3D%3D?line=0'>1</a>\u001b[0m os\u001b[39m.\u001b[39;49mmkdir(\u001b[39m'\u001b[39;49m\u001b[39m.//model\u001b[39;49m\u001b[39m'\u001b[39;49m)\n",
      "\u001b[1;31mFileExistsError\u001b[0m: [WinError 183] Невозможно создать файл, так как он уже существует: './/model'"
     ]
    }
   ],
   "source": [
    "os.mkdir('.//model')"
   ]
  },
  {
   "cell_type": "code",
   "execution_count": 3,
   "metadata": {},
   "outputs": [],
   "source": [
    "model.load_weights('.\\\\model\\\\vic_leaders_model.h5')"
   ]
  },
  {
   "cell_type": "code",
   "execution_count": 5,
   "metadata": {},
   "outputs": [
    {
     "name": "stdout",
     "output_type": "stream",
     "text": [
      "[[286  43 185 185]]\n"
     ]
    },
    {
     "data": {
      "text/plain": [
       "<matplotlib.image.AxesImage at 0x20fe1a17250>"
      ]
     },
     "execution_count": 5,
     "metadata": {},
     "output_type": "execute_result"
    },
    {
     "data": {
      "image/png": "[encoded data removed]",
      "text/plain": [
       "<Figure size 432x288 with 1 Axes>"
      ]
     },
     "metadata": {
      "needs_background": "light"
     },
     "output_type": "display_data"
    }
   ],
   "source": [
    "from matplotlib import pyplot as plt\n",
    "test = cv2.imread('.\\\\test.webp')\n",
    "face_cascade = cv2.CascadeClassifier(cv2.data.haarcascades + 'haarcascade_frontalface_default.xml')\n",
    "faces = face_cascade.detectMultiScale(test, 1.3, 5)\n",
    "print(faces)\n",
    "x,y,w,h = faces[0]\n",
    "new_test = test[y:y+h, x:x+w]\n",
    "new_test = cv2.resize(new_test, (32, 32))\n",
    "plt.imshow(new_test)"
   ]
  },
  {
   "cell_type": "code",
   "execution_count": 6,
   "metadata": {},
   "outputs": [
    {
     "data": {
      "text/plain": [
       "(1, 32, 32, 3)"
      ]
     },
     "execution_count": 6,
     "metadata": {},
     "output_type": "execute_result"
    }
   ],
   "source": [
    "new_test = np.array([new_test])\n",
    "new_test.shape"
   ]
  },
  {
   "cell_type": "code",
   "execution_count": 49,
   "metadata": {},
   "outputs": [
    {
     "name": "stdout",
     "output_type": "stream",
     "text": [
      "[[8.9514756e-01 1.1339659e-01 1.7860426e-04 7.3893982e-01 9.3101817e-01\n",
      "  1.3927098e-01 9.7955346e-01 7.6346803e-01]]\n"
     ]
    },
    {
     "data": {
      "text/plain": [
       "'zaluzhny'"
      ]
     },
     "execution_count": 49,
     "metadata": {},
     "output_type": "execute_result"
    }
   ],
   "source": [
    "pred = model.predict(new_test)\n",
    "print(pred)\n",
    "faces_list[np.argmax(pred)]"
   ]
  }
 ],
 "metadata": {
  "kernelspec": {
   "display_name": "Python 3.10.2 64-bit",
   "language": "python",
   "name": "python3"
  },
  "language_info": {
   "codemirror_mode": {
    "name": "ipython",
    "version": 3
   },
   "file_extension": ".py",
   "mimetype": "text/x-python",
   "name": "python",
   "nbconvert_exporter": "python",
   "pygments_lexer": "ipython3",
   "version": "3.10.2"
  },
  "orig_nbformat": 4,
  "vscode": {
   "interpreter": {
    "hash": "0d2859beb45dd9968c1d74c07ed5bb99ff725817d6d4c47a5aea139339d5b4f0"
   }
  }
 },
 "nbformat": 4,
 "nbformat_minor": 2
}
